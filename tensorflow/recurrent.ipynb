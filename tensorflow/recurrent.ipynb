{
 "cells": [
  {
   "cell_type": "code",
   "execution_count": 51,
   "metadata": {},
   "outputs": [],
   "source": [
    "from keras.datasets import reuters\n",
    "import numpy as np\n",
    "import scipy.stats as stats\n",
    "import matplotlib.pyplot as plt"
   ]
  },
  {
   "cell_type": "code",
   "execution_count": 140,
   "metadata": {},
   "outputs": [],
   "source": [
    "MAX_LEN = 300\n",
    "(X_tr_enc, y_tr_enc), (X_ts_enc, y_ts_enc) = reuters.load_data(maxlen=MAX_LEN, skip_top=30)"
   ]
  },
  {
   "cell_type": "code",
   "execution_count": 141,
   "metadata": {},
   "outputs": [
    {
     "data": {
      "text/plain": [
       "((7976,), (1994,), 46)"
      ]
     },
     "execution_count": 141,
     "metadata": {},
     "output_type": "execute_result"
    }
   ],
   "source": [
    "NUM_CLS = len(np.unique(y_tr_enc))\n",
    "X_tr_enc.shape, X_ts_enc.shape, NUM_CLS"
   ]
  },
  {
   "cell_type": "code",
   "execution_count": 142,
   "metadata": {},
   "outputs": [
    {
     "data": {
      "text/plain": [
       "((7976, 46), (7976,))"
      ]
     },
     "execution_count": 142,
     "metadata": {},
     "output_type": "execute_result"
    }
   ],
   "source": [
    "from keras.utils import to_categorical\n",
    "y_tr = to_categorical(y_tr_enc)\n",
    "y_ts = to_categorical(y_ts_enc)\n",
    "y_tr.shape, y_tr_enc.shape"
   ]
  },
  {
   "cell_type": "code",
   "execution_count": 143,
   "metadata": {},
   "outputs": [
    {
     "data": {
      "text/plain": [
       "((7976, 300, 1), (1994, 300, 1))"
      ]
     },
     "execution_count": 143,
     "metadata": {},
     "output_type": "execute_result"
    }
   ],
   "source": [
    "X_tr = np.array([smpl + [0]*(MAX_LEN - len(smpl)) for smpl in X_tr_enc]).reshape(-1, 300, 1)\n",
    "X_ts = np.array([smpl + [0]*(MAX_LEN - len(smpl)) for smpl in X_ts_enc]).reshape(-1, 300, 1)\n",
    "X_tr.shape, X_ts.shape"
   ]
  },
  {
   "cell_type": "code",
   "execution_count": 144,
   "metadata": {},
   "outputs": [
    {
     "name": "stdout",
     "output_type": "stream",
     "text": [
      "Baseline: 0.3817703109327984\n"
     ]
    }
   ],
   "source": [
    "baseline = stats.mode(y_tr_enc).count[0] / len(y_tr_enc)\n",
    "print('Baseline:', baseline)"
   ]
  },
  {
   "cell_type": "code",
   "execution_count": 145,
   "metadata": {},
   "outputs": [
    {
     "data": {
      "image/png": "[encoded data removed]",
      "text/plain": [
       "<Figure size 432x288 with 1 Axes>"
      ]
     },
     "metadata": {},
     "output_type": "display_data"
    }
   ],
   "source": [
    "plt.hist([len(smpl) for smpl in X_tr_enc]);"
   ]
  },
  {
   "cell_type": "code",
   "execution_count": 146,
   "metadata": {},
   "outputs": [
    {
     "name": "stdout",
     "output_type": "stream",
     "text": [
      "_________________________________________________________________\n",
      "Layer (type)                 Output Shape              Param #   \n",
      "=================================================================\n",
      "input_26 (InputLayer)        (None, 300, 1)            0         \n",
      "_________________________________________________________________\n",
      "lstm_38 (LSTM)               (None, 300, 64)           16896     \n",
      "_________________________________________________________________\n",
      "lstm_39 (LSTM)               (None, 300, 64)           33024     \n",
      "_________________________________________________________________\n",
      "lstm_40 (LSTM)               (None, 64)                33024     \n",
      "_________________________________________________________________\n",
      "dense_19 (Dense)             (None, 46)                2990      \n",
      "=================================================================\n",
      "Total params: 85,934\n",
      "Trainable params: 85,934\n",
      "Non-trainable params: 0\n",
      "_________________________________________________________________\n"
     ]
    }
   ],
   "source": [
    "from keras import Input, Model, layers\n",
    "\n",
    "inpt = Input(batch_shape=(None, MAX_LEN, 1))\n",
    "x = layers.LSTM(64, return_sequences=True)(inpt)\n",
    "x = layers.LSTM(64, return_sequences=True)(x)\n",
    "x = layers.LSTM(64)(x)\n",
    "outpt = layers.Dense(NUM_CLS, activation='softmax')(x)\n",
    "\n",
    "model = Model(inpt, outpt)\n",
    "model.compile(loss='categorical_crossentropy', optimizer='adam', metrics=['accuracy'])\n",
    "model.summary()"
   ]
  },
  {
   "cell_type": "code",
   "execution_count": 147,
   "metadata": {},
   "outputs": [
    {
     "name": "stdout",
     "output_type": "stream",
     "text": [
      "Train on 6380 samples, validate on 1596 samples\n",
      "Epoch 1/5\n",
      "6380/6380 [==============================] - 147s 23ms/step - loss: 2.4304 - acc: 0.3818 - val_loss: 2.3940 - val_acc: 0.3665\n",
      "Epoch 2/5\n",
      "6380/6380 [==============================] - 146s 23ms/step - loss: 2.2999 - acc: 0.3856 - val_loss: 2.3843 - val_acc: 0.3659\n",
      "Epoch 3/5\n",
      "6380/6380 [==============================] - 145s 23ms/step - loss: 2.2982 - acc: 0.3859 - val_loss: 2.3881 - val_acc: 0.3672\n",
      "Epoch 4/5\n",
      "6380/6380 [==============================] - 149s 23ms/step - loss: 2.3012 - acc: 0.3839 - val_loss: 2.3850 - val_acc: 0.3672\n",
      "Epoch 5/5\n",
      "6380/6380 [==============================] - 147s 23ms/step - loss: 2.2977 - acc: 0.3856 - val_loss: 2.4096 - val_acc: 0.3672\n"
     ]
    },
    {
     "data": {
      "text/plain": [
       "<keras.callbacks.History at 0x12c9f6cf8>"
      ]
     },
     "execution_count": 147,
     "metadata": {},
     "output_type": "execute_result"
    }
   ],
   "source": [
    "from sklearn.cross_validation import train_test_split\n",
    "\n",
    "X_t, X_v, y_t, y_v = train_test_split(X_tr, y_tr, test_size=0.2)\n",
    "\n",
    "model.fit(X_t, y_t,\n",
    "          epochs=5,\n",
    "          batch_size=32,\n",
    "          validation_data=(X_v, y_v))"
   ]
  },
  {
   "cell_type": "code",
   "execution_count": 148,
   "metadata": {},
   "outputs": [
    {
     "data": {
      "text/plain": [
       "<matplotlib.collections.LineCollection at 0x123912668>"
      ]
     },
     "execution_count": 148,
     "metadata": {},
     "output_type": "execute_result"
    },
    {
     "data": {
      "image/png": "[encoded data removed]",
      "text/plain": [
       "<Figure size 432x288 with 1 Axes>"
      ]
     },
     "metadata": {},
     "output_type": "display_data"
    }
   ],
   "source": [
    "hst = model.history.history\n",
    "plt.plot(hst['val_acc'])\n",
    "plt.plot(hst['acc'])\n",
    "plt.hlines(baseline, *plt.xlim())"
   ]
  },
  {
   "cell_type": "code",
   "execution_count": null,
   "metadata": {},
   "outputs": [],
   "source": []
  }
 ],
 "metadata": {
  "kernelspec": {
   "display_name": "Python 3",
   "language": "python",
   "name": "python3"
  },
  "language_info": {
   "codemirror_mode": {
    "name": "ipython",
    "version": 3
   },
   "file_extension": ".py",
   "mimetype": "text/x-python",
   "name": "python",
   "nbconvert_exporter": "python",
   "pygments_lexer": "ipython3",
   "version": "3.6.5"
  }
 },
 "nbformat": 4,
 "nbformat_minor": 2
}
