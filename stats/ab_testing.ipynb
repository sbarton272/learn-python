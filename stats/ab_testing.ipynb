{
 "cells": [
  {
   "cell_type": "markdown",
   "metadata": {},
   "source": [
    "# Review of A/B Testing Tools\n",
    "\n",
    "- Sample size selection for proportions\n",
    "  - Single treatment\n",
    "  - Multitreatment\n",
    "- Hypothesis test for proportions\n",
    "- Power analysis for proportions"
   ]
  },
  {
   "cell_type": "markdown",
   "metadata": {},
   "source": [
    "## Review of Tests\n",
    "\n",
    "**t-test**\n",
    "\n",
    "- https://en.wikipedia.org/wiki/Student%27s_t-test#Assumptions\n",
    "- is used for continuous values.\n",
    "- one-sided assumes this will be from the t dist: $\\frac{ \\hat{\\mu} - \\mu_0 }{ \\hat{\\sigma} / \\sqrt{n} }$\n",
    "- 2 dist\n",
    "  - means are normal (valid with enough data due to CLT -- means always converge)\n",
    "  - same std\n",
    "  - same size\n",
    "  - usually still works unless IID assumption is broken\n",
    "\n",
    "**z-test**\n",
    "\n",
    "- TODO\n",
    "\n",
    "**chi-square**\n",
    "\n",
    "- TODO\n",
    "\n",
    "### Key Terms\n",
    "\n",
    "- Power is the likelihood h0 is rejected given that h1 is real\n",
    "- P-value is the probability of seeing a more extreme result given null hypot is true\n",
    "\n",
    "### Resources\n",
    "\n",
    "- https://machinelearningmastery.com/effect-size-measures-in-python/\n",
    "- http://jpktd.blogspot.com/2013/03/statistical-power-in-statsmodels.html\n",
    "- https://www.evanmiller.org/ab-testing/sample-size.html"
   ]
  },
  {
   "cell_type": "code",
   "execution_count": 2,
   "metadata": {},
   "outputs": [],
   "source": [
    "import statsmodels.stats.power as pwr"
   ]
  },
  {
   "cell_type": "code",
   "execution_count": 4,
   "metadata": {},
   "outputs": [
    {
     "data": {
      "text/plain": [
       "\u001b[0;31mSignature:\u001b[0m \u001b[0mpwr\u001b[0m\u001b[0;34m.\u001b[0m\u001b[0mttest_power\u001b[0m\u001b[0;34m(\u001b[0m\u001b[0meffect_size\u001b[0m\u001b[0;34m,\u001b[0m \u001b[0mnobs\u001b[0m\u001b[0;34m,\u001b[0m \u001b[0malpha\u001b[0m\u001b[0;34m,\u001b[0m \u001b[0mdf\u001b[0m\u001b[0;34m=\u001b[0m\u001b[0;32mNone\u001b[0m\u001b[0;34m,\u001b[0m \u001b[0malternative\u001b[0m\u001b[0;34m=\u001b[0m\u001b[0;34m'two-sided'\u001b[0m\u001b[0;34m)\u001b[0m\u001b[0;34m\u001b[0m\u001b[0;34m\u001b[0m\u001b[0m\n",
       "\u001b[0;31mDocstring:\u001b[0m\n",
       "Calculate power of a ttest\n",
       "    \n",
       "\u001b[0;31mFile:\u001b[0m      ~/Documents/learn-python/.venv/lib/python3.7/site-packages/statsmodels/stats/power.py\n",
       "\u001b[0;31mType:\u001b[0m      function\n"
      ]
     },
     "metadata": {},
     "output_type": "display_data"
    }
   ],
   "source": [
    "?pwr.ttest_power"
   ]
  },
  {
   "cell_type": "code",
   "execution_count": 3,
   "metadata": {},
   "outputs": [
    {
     "data": {
      "text/plain": [
       "0.45558175996348543"
      ]
     },
     "execution_count": 3,
     "metadata": {},
     "output_type": "execute_result"
    }
   ],
   "source": [
    "pwr.ttest_power(0.2, nobs=60, alpha=0.1, alternative='two-sided')"
   ]
  },
  {
   "cell_type": "code",
   "execution_count": 7,
   "metadata": {},
   "outputs": [
    {
     "data": {
      "text/plain": [
       "\u001b[0;31mSignature:\u001b[0m\n",
       "\u001b[0mtt_pwr\u001b[0m\u001b[0;34m.\u001b[0m\u001b[0msolve_power\u001b[0m\u001b[0;34m(\u001b[0m\u001b[0;34m\u001b[0m\n",
       "\u001b[0;34m\u001b[0m    \u001b[0meffect_size\u001b[0m\u001b[0;34m=\u001b[0m\u001b[0;32mNone\u001b[0m\u001b[0;34m,\u001b[0m\u001b[0;34m\u001b[0m\n",
       "\u001b[0;34m\u001b[0m    \u001b[0mnobs1\u001b[0m\u001b[0;34m=\u001b[0m\u001b[0;32mNone\u001b[0m\u001b[0;34m,\u001b[0m\u001b[0;34m\u001b[0m\n",
       "\u001b[0;34m\u001b[0m    \u001b[0malpha\u001b[0m\u001b[0;34m=\u001b[0m\u001b[0;32mNone\u001b[0m\u001b[0;34m,\u001b[0m\u001b[0;34m\u001b[0m\n",
       "\u001b[0;34m\u001b[0m    \u001b[0mpower\u001b[0m\u001b[0;34m=\u001b[0m\u001b[0;32mNone\u001b[0m\u001b[0;34m,\u001b[0m\u001b[0;34m\u001b[0m\n",
       "\u001b[0;34m\u001b[0m    \u001b[0mratio\u001b[0m\u001b[0;34m=\u001b[0m\u001b[0;36m1.0\u001b[0m\u001b[0;34m,\u001b[0m\u001b[0;34m\u001b[0m\n",
       "\u001b[0;34m\u001b[0m    \u001b[0malternative\u001b[0m\u001b[0;34m=\u001b[0m\u001b[0;34m'two-sided'\u001b[0m\u001b[0;34m,\u001b[0m\u001b[0;34m\u001b[0m\n",
       "\u001b[0;34m\u001b[0m\u001b[0;34m)\u001b[0m\u001b[0;34m\u001b[0m\u001b[0;34m\u001b[0m\u001b[0m\n",
       "\u001b[0;31mDocstring:\u001b[0m\n",
       "solve for any one parameter of the power of a two sample t-test\n",
       "\n",
       "for t-test the keywords are:\n",
       "    effect_size, nobs1, alpha, power, ratio\n",
       "\n",
       "exactly one needs to be ``None``, all others need numeric values\n",
       "\n",
       "Parameters\n",
       "----------\n",
       "effect_size : float\n",
       "    standardized effect size, difference between the two means divided\n",
       "    by the standard deviation. `effect_size` has to be positive.\n",
       "nobs1 : int or float\n",
       "    number of observations of sample 1. The number of observations of\n",
       "    sample two is ratio times the size of sample 1,\n",
       "    i.e. ``nobs2 = nobs1 * ratio``\n",
       "alpha : float in interval (0,1)\n",
       "    significance level, e.g. 0.05, is the probability of a type I\n",
       "    error, that is wrong rejections if the Null Hypothesis is true.\n",
       "power : float in interval (0,1)\n",
       "    power of the test, e.g. 0.8, is one minus the probability of a\n",
       "    type II error. Power is the probability that the test correctly\n",
       "    rejects the Null Hypothesis if the Alternative Hypothesis is true.\n",
       "ratio : float\n",
       "    ratio of the number of observations in sample 2 relative to\n",
       "    sample 1. see description of nobs1\n",
       "    The default for ratio is 1; to solve for ratio given the other\n",
       "    arguments it has to be explicitly set to None.\n",
       "alternative : str, 'two-sided' (default), 'larger', 'smaller'\n",
       "    extra argument to choose whether the power is calculated for a\n",
       "    two-sided (default) or one sided test. The one-sided test can be\n",
       "    either 'larger', 'smaller'.\n",
       "\n",
       "Returns\n",
       "-------\n",
       "value : float\n",
       "    The value of the parameter that was set to None in the call. The\n",
       "    value solves the power equation given the remaining parameters.\n",
       "\n",
       "\n",
       "Notes\n",
       "-----\n",
       "The function uses scipy.optimize for finding the value that satisfies\n",
       "the power equation. It first uses ``brentq`` with a prior search for\n",
       "bounds. If this fails to find a root, ``fsolve`` is used. If ``fsolve``\n",
       "also fails, then, for ``alpha``, ``power`` and ``effect_size``,\n",
       "``brentq`` with fixed bounds is used. However, there can still be cases\n",
       "where this fails.\n",
       "\u001b[0;31mFile:\u001b[0m      ~/Documents/learn-python/.venv/lib/python3.7/site-packages/statsmodels/stats/power.py\n",
       "\u001b[0;31mType:\u001b[0m      method\n"
      ]
     },
     "metadata": {},
     "output_type": "display_data"
    }
   ],
   "source": [
    "tt_pwr = pwr.TTestIndPower()\n",
    "?tt_pwr.solve_power"
   ]
  },
  {
   "cell_type": "code",
   "execution_count": 5,
   "metadata": {},
   "outputs": [
    {
     "data": {
      "text/plain": [
       "120.22320283709918"
      ]
     },
     "execution_count": 5,
     "metadata": {},
     "output_type": "execute_result"
    }
   ],
   "source": [
    "pwr.TTestIndPower().solve_power(0.3, power=0.75, ratio=1, alpha=0.05, alternative='larger')"
   ]
  },
  {
   "cell_type": "markdown",
   "metadata": {},
   "source": [
    "Mini-example\n",
    "\n",
    "- 500 loans a day\n",
    "- Want to try new terms\n",
    "- Want to see difference in default rates at least 1 percentage point\n",
    "- Current default rate is 10%"
   ]
  },
  {
   "cell_type": "code",
   "execution_count": 37,
   "metadata": {},
   "outputs": [
    {
     "data": {
      "text/plain": [
       "20015.555002803725"
      ]
     },
     "execution_count": 37,
     "metadata": {},
     "output_type": "execute_result"
    }
   ],
   "source": [
    "import numpy as np\n",
    "\n",
    "p = 0.5 # worst case for binomial, when each \n",
    "p = 0.15 # assuming null hypot, no change\n",
    "std_dev = np.sqrt( p * (1-p) )\n",
    "diff = 0.01\n",
    "effect_size = diff / std_dev\n",
    "\n",
    "pwr.TTestIndPower().solve_power(\n",
    "    effect_size=effect_size,\n",
    "    alpha=0.05,\n",
    "    power=0.8,\n",
    "    ratio=1,\n",
    "    alternative='two-sided',\n",
    ")"
   ]
  },
  {
   "cell_type": "code",
   "execution_count": 40,
   "metadata": {},
   "outputs": [
    {
     "data": {
      "text/plain": [
       "20014.59429880191"
      ]
     },
     "execution_count": 40,
     "metadata": {},
     "output_type": "execute_result"
    }
   ],
   "source": [
    "pwr.zt_ind_solve_power(\n",
    "    effect_size=effect_size,\n",
    "    alpha=0.05,\n",
    "    power=0.8,\n",
    "    ratio=1,\n",
    "    alternative='two-sided',\n",
    ")"
   ]
  },
  {
   "cell_type": "code",
   "execution_count": 46,
   "metadata": {},
   "outputs": [
    {
     "data": {
      "text/plain": [
       "\u001b[0;31mSignature:\u001b[0m\n",
       "\u001b[0mchi_pwr\u001b[0m\u001b[0;34m.\u001b[0m\u001b[0msolve_power\u001b[0m\u001b[0;34m(\u001b[0m\u001b[0;34m\u001b[0m\n",
       "\u001b[0;34m\u001b[0m    \u001b[0meffect_size\u001b[0m\u001b[0;34m=\u001b[0m\u001b[0;32mNone\u001b[0m\u001b[0;34m,\u001b[0m\u001b[0;34m\u001b[0m\n",
       "\u001b[0;34m\u001b[0m    \u001b[0mnobs\u001b[0m\u001b[0;34m=\u001b[0m\u001b[0;32mNone\u001b[0m\u001b[0;34m,\u001b[0m\u001b[0;34m\u001b[0m\n",
       "\u001b[0;34m\u001b[0m    \u001b[0malpha\u001b[0m\u001b[0;34m=\u001b[0m\u001b[0;32mNone\u001b[0m\u001b[0;34m,\u001b[0m\u001b[0;34m\u001b[0m\n",
       "\u001b[0;34m\u001b[0m    \u001b[0mpower\u001b[0m\u001b[0;34m=\u001b[0m\u001b[0;32mNone\u001b[0m\u001b[0;34m,\u001b[0m\u001b[0;34m\u001b[0m\n",
       "\u001b[0;34m\u001b[0m    \u001b[0mn_bins\u001b[0m\u001b[0;34m=\u001b[0m\u001b[0;36m2\u001b[0m\u001b[0;34m,\u001b[0m\u001b[0;34m\u001b[0m\n",
       "\u001b[0;34m\u001b[0m\u001b[0;34m)\u001b[0m\u001b[0;34m\u001b[0m\u001b[0;34m\u001b[0m\u001b[0m\n",
       "\u001b[0;31mDocstring:\u001b[0m\n",
       "solve for any one parameter of the power of a one sample chisquare-test\n",
       "\n",
       "for the one sample chisquare-test the keywords are:\n",
       "    effect_size, nobs, alpha, power\n",
       "\n",
       "Exactly one needs to be ``None``, all others need numeric values.\n",
       "\n",
       "n_bins needs to be defined, a default=2 is used.\n",
       "\n",
       "\n",
       "Parameters\n",
       "----------\n",
       "effect_size : float\n",
       "    standardized effect size, according to Cohen's definition.\n",
       "    see :func:`statsmodels.stats.gof.chisquare_effectsize`\n",
       "nobs : int or float\n",
       "    sample size, number of observations.\n",
       "alpha : float in interval (0,1)\n",
       "    significance level, e.g. 0.05, is the probability of a type I\n",
       "    error, that is wrong rejections if the Null Hypothesis is true.\n",
       "power : float in interval (0,1)\n",
       "    power of the test, e.g. 0.8, is one minus the probability of a\n",
       "    type II error. Power is the probability that the test correctly\n",
       "    rejects the Null Hypothesis if the Alternative Hypothesis is true.\n",
       "n_bins : int\n",
       "    number of bins or cells in the distribution\n",
       "\n",
       "Returns\n",
       "-------\n",
       "value : float\n",
       "    The value of the parameter that was set to None in the call. The\n",
       "    value solves the power equation given the remaining parameters.\n",
       "\n",
       "\n",
       "Notes\n",
       "-----\n",
       "The function uses scipy.optimize for finding the value that satisfies\n",
       "the power equation. It first uses ``brentq`` with a prior search for\n",
       "bounds. If this fails to find a root, ``fsolve`` is used. If ``fsolve``\n",
       "also fails, then, for ``alpha``, ``power`` and ``effect_size``,\n",
       "``brentq`` with fixed bounds is used. However, there can still be cases\n",
       "where this fails.\n",
       "\u001b[0;31mFile:\u001b[0m      ~/Documents/learn-python/.venv/lib/python3.7/site-packages/statsmodels/stats/power.py\n",
       "\u001b[0;31mType:\u001b[0m      method\n"
      ]
     },
     "metadata": {},
     "output_type": "display_data"
    }
   ],
   "source": [
    "chi_pwr = pwr.GofChisquarePower()\n",
    "?chi_pwr.solve_power"
   ]
  },
  {
   "cell_type": "code",
   "execution_count": 48,
   "metadata": {},
   "outputs": [
    {
     "data": {
      "text/plain": [
       "\u001b[0;31mSignature:\u001b[0m\n",
       "\u001b[0mstatsmodels\u001b[0m\u001b[0;34m.\u001b[0m\u001b[0mstats\u001b[0m\u001b[0;34m.\u001b[0m\u001b[0mgof\u001b[0m\u001b[0;34m.\u001b[0m\u001b[0mchisquare_effectsize\u001b[0m\u001b[0;34m(\u001b[0m\u001b[0;34m\u001b[0m\n",
       "\u001b[0;34m\u001b[0m    \u001b[0mprobs0\u001b[0m\u001b[0;34m,\u001b[0m\u001b[0;34m\u001b[0m\n",
       "\u001b[0;34m\u001b[0m    \u001b[0mprobs1\u001b[0m\u001b[0;34m,\u001b[0m\u001b[0;34m\u001b[0m\n",
       "\u001b[0;34m\u001b[0m    \u001b[0mcorrection\u001b[0m\u001b[0;34m=\u001b[0m\u001b[0;32mNone\u001b[0m\u001b[0;34m,\u001b[0m\u001b[0;34m\u001b[0m\n",
       "\u001b[0;34m\u001b[0m    \u001b[0mcohen\u001b[0m\u001b[0;34m=\u001b[0m\u001b[0;32mTrue\u001b[0m\u001b[0;34m,\u001b[0m\u001b[0;34m\u001b[0m\n",
       "\u001b[0;34m\u001b[0m    \u001b[0maxis\u001b[0m\u001b[0;34m=\u001b[0m\u001b[0;36m0\u001b[0m\u001b[0;34m,\u001b[0m\u001b[0;34m\u001b[0m\n",
       "\u001b[0;34m\u001b[0m\u001b[0;34m)\u001b[0m\u001b[0;34m\u001b[0m\u001b[0;34m\u001b[0m\u001b[0m\n",
       "\u001b[0;31mDocstring:\u001b[0m\n",
       "effect size for a chisquare goodness-of-fit test\n",
       "\n",
       "Parameters\n",
       "----------\n",
       "probs0 : array_like\n",
       "    probabilities or cell frequencies under the Null hypothesis\n",
       "probs1 : array_like\n",
       "    probabilities or cell frequencies under the Alternative hypothesis\n",
       "    probs0 and probs1 need to have the same length in the ``axis`` dimension.\n",
       "    and broadcast in the other dimensions\n",
       "    Both probs0 and probs1 are normalized to add to one (in the ``axis``\n",
       "    dimension).\n",
       "correction : None or tuple\n",
       "    If None, then the effect size is the chisquare statistic divide by\n",
       "    the number of observations.\n",
       "    If the correction is a tuple (nobs, df), then the effectsize is\n",
       "    corrected to have less bias and a smaller variance. However, the\n",
       "    correction can make the effectsize negative. In that case, the\n",
       "    effectsize is set to zero.\n",
       "    Pederson and Johnson (1990) as referenced in McLaren et all. (1994)\n",
       "cohen : bool\n",
       "    If True, then the square root is returned as in the definition of the\n",
       "    effect size by Cohen (1977), If False, then the original effect size\n",
       "    is returned.\n",
       "axis : int\n",
       "    If the probability arrays broadcast to more than 1 dimension, then\n",
       "    this is the axis over which the sums are taken.\n",
       "\n",
       "Returns\n",
       "-------\n",
       "effectsize : float\n",
       "    effect size of chisquare test\n",
       "\u001b[0;31mFile:\u001b[0m      ~/Documents/learn-python/.venv/lib/python3.7/site-packages/statsmodels/stats/gof.py\n",
       "\u001b[0;31mType:\u001b[0m      function\n"
      ]
     },
     "metadata": {},
     "output_type": "display_data"
    }
   ],
   "source": [
    "import statsmodels\n",
    "?statsmodels.stats.gof.chisquare_effectsize"
   ]
  },
  {
   "cell_type": "code",
   "execution_count": 51,
   "metadata": {},
   "outputs": [
    {
     "data": {
      "text/plain": [
       "0.028005601680560196"
      ]
     },
     "execution_count": 51,
     "metadata": {},
     "output_type": "execute_result"
    }
   ],
   "source": [
    "effect_size"
   ]
  },
  {
   "cell_type": "code",
   "execution_count": 52,
   "metadata": {},
   "outputs": [
    {
     "data": {
      "text/plain": [
       "0.028005601680560224"
      ]
     },
     "execution_count": 52,
     "metadata": {},
     "output_type": "execute_result"
    }
   ],
   "source": [
    "statsmodels.stats.gof.chisquare_effectsize(\n",
    "    probs0=[0.15, 0.85],\n",
    "    probs1=[0.16, 0.84],\n",
    ")"
   ]
  },
  {
   "cell_type": "code",
   "execution_count": 53,
   "metadata": {},
   "outputs": [
    {
     "data": {
      "text/plain": [
       "0.03188756626994474"
      ]
     },
     "execution_count": 53,
     "metadata": {},
     "output_type": "execute_result"
    }
   ],
   "source": [
    "statsmodels.stats.gof.chisquare_effectsize(\n",
    "    probs0=[0.15, 0.85],\n",
    "    probs1=[0.14, 0.87],\n",
    ")"
   ]
  },
  {
   "cell_type": "code",
   "execution_count": 55,
   "metadata": {},
   "outputs": [
    {
     "data": {
      "text/plain": [
       "10007.29714939089"
      ]
     },
     "execution_count": 55,
     "metadata": {},
     "output_type": "execute_result"
    }
   ],
   "source": [
    "pwr.GofChisquarePower().solve_power(\n",
    "    effect_size=effect_size,\n",
    "    alpha=0.05,\n",
    "    power=0.8,\n",
    ")"
   ]
  },
  {
   "cell_type": "markdown",
   "metadata": {},
   "source": [
    "## Hypothesis Test"
   ]
  },
  {
   "cell_type": "code",
   "execution_count": 68,
   "metadata": {},
   "outputs": [
    {
     "data": {
      "text/plain": [
       "(0.6187353050365054, 0.5970149253731343)"
      ]
     },
     "execution_count": 68,
     "metadata": {},
     "output_type": "execute_result"
    }
   ],
   "source": [
    "import statsmodels.stats.api as sm\n",
    "\n",
    "results1 = [\n",
    "    [5000, 3081], # A\n",
    "    [4000, 2700], # B\n",
    "]\n",
    "\n",
    "results1[0][0] / sum(results1[0]), results1[1][0] / sum(results1[1])"
   ]
  },
  {
   "cell_type": "code",
   "execution_count": 58,
   "metadata": {},
   "outputs": [
    {
     "data": {
      "text/plain": [
       "\u001b[0;31mSignature:\u001b[0m\n",
       "\u001b[0msm\u001b[0m\u001b[0;34m.\u001b[0m\u001b[0mproportions_ztest\u001b[0m\u001b[0;34m(\u001b[0m\u001b[0;34m\u001b[0m\n",
       "\u001b[0;34m\u001b[0m    \u001b[0mcount\u001b[0m\u001b[0;34m,\u001b[0m\u001b[0;34m\u001b[0m\n",
       "\u001b[0;34m\u001b[0m    \u001b[0mnobs\u001b[0m\u001b[0;34m,\u001b[0m\u001b[0;34m\u001b[0m\n",
       "\u001b[0;34m\u001b[0m    \u001b[0mvalue\u001b[0m\u001b[0;34m=\u001b[0m\u001b[0;32mNone\u001b[0m\u001b[0;34m,\u001b[0m\u001b[0;34m\u001b[0m\n",
       "\u001b[0;34m\u001b[0m    \u001b[0malternative\u001b[0m\u001b[0;34m=\u001b[0m\u001b[0;34m'two-sided'\u001b[0m\u001b[0;34m,\u001b[0m\u001b[0;34m\u001b[0m\n",
       "\u001b[0;34m\u001b[0m    \u001b[0mprop_var\u001b[0m\u001b[0;34m=\u001b[0m\u001b[0;32mFalse\u001b[0m\u001b[0;34m,\u001b[0m\u001b[0;34m\u001b[0m\n",
       "\u001b[0;34m\u001b[0m\u001b[0;34m)\u001b[0m\u001b[0;34m\u001b[0m\u001b[0;34m\u001b[0m\u001b[0m\n",
       "\u001b[0;31mDocstring:\u001b[0m\n",
       "Test for proportions based on normal (z) test\n",
       "\n",
       "Parameters\n",
       "----------\n",
       "count : {int, array_like}\n",
       "    the number of successes in nobs trials. If this is array_like, then\n",
       "    the assumption is that this represents the number of successes for\n",
       "    each independent sample\n",
       "nobs : {int, array_like}\n",
       "    the number of trials or observations, with the same length as\n",
       "    count.\n",
       "value : float, array_like or None, optional\n",
       "    This is the value of the null hypothesis equal to the proportion in the\n",
       "    case of a one sample test. In the case of a two-sample test, the\n",
       "    null hypothesis is that prop[0] - prop[1] = value, where prop is the\n",
       "    proportion in the two samples. If not provided value = 0 and the null\n",
       "    is prop[0] = prop[1]\n",
       "alternative : str in ['two-sided', 'smaller', 'larger']\n",
       "    The alternative hypothesis can be either two-sided or one of the one-\n",
       "    sided tests, smaller means that the alternative hypothesis is\n",
       "    ``prop < value`` and larger means ``prop > value``. In the two sample\n",
       "    test, smaller means that the alternative hypothesis is ``p1 < p2`` and\n",
       "    larger means ``p1 > p2`` where ``p1`` is the proportion of the first\n",
       "    sample and ``p2`` of the second one.\n",
       "prop_var : False or float in (0, 1)\n",
       "    If prop_var is false, then the variance of the proportion estimate is\n",
       "    calculated based on the sample proportion. Alternatively, a proportion\n",
       "    can be specified to calculate this variance. Common use case is to\n",
       "    use the proportion under the Null hypothesis to specify the variance\n",
       "    of the proportion estimate.\n",
       "\n",
       "Returns\n",
       "-------\n",
       "zstat : float\n",
       "    test statistic for the z-test\n",
       "p-value : float\n",
       "    p-value for the z-test\n",
       "\n",
       "Examples\n",
       "--------\n",
       ">>> count = 5\n",
       ">>> nobs = 83\n",
       ">>> value = .05\n",
       ">>> stat, pval = proportions_ztest(count, nobs, value)\n",
       ">>> print('{0:0.3f}'.format(pval))\n",
       "0.695\n",
       "\n",
       ">>> import numpy as np\n",
       ">>> from statsmodels.stats.proportion import proportions_ztest\n",
       ">>> count = np.array([5, 12])\n",
       ">>> nobs = np.array([83, 99])\n",
       ">>> stat, pval = proportions_ztest(count, nobs)\n",
       ">>> print('{0:0.3f}'.format(pval))\n",
       "0.159\n",
       "\n",
       "Notes\n",
       "-----\n",
       "This uses a simple normal test for proportions. It should be the same as\n",
       "running the mean z-test on the data encoded 1 for event and 0 for no event\n",
       "so that the sum corresponds to the count.\n",
       "\n",
       "In the one and two sample cases with two-sided alternative, this test\n",
       "produces the same p-value as ``proportions_chisquare``, since the\n",
       "chisquare is the distribution of the square of a standard normal\n",
       "distribution.\n",
       "\u001b[0;31mFile:\u001b[0m      ~/Documents/learn-python/.venv/lib/python3.7/site-packages/statsmodels/stats/proportion.py\n",
       "\u001b[0;31mType:\u001b[0m      function\n"
      ]
     },
     "metadata": {},
     "output_type": "display_data"
    }
   ],
   "source": [
    "?sm.proportions_ztest"
   ]
  },
  {
   "cell_type": "code",
   "execution_count": 62,
   "metadata": {},
   "outputs": [
    {
     "data": {
      "text/plain": [
       "(2.693807365822314, 0.007064097883455329)"
      ]
     },
     "execution_count": 62,
     "metadata": {},
     "output_type": "execute_result"
    }
   ],
   "source": [
    "sm.proportions_ztest(\n",
    "    count=[results1[0][0], results1[1][0]], # Successes\n",
    "    nobs=[sum(results1[0]), sum(results1[1])],\n",
    "    value=0, # null is no diff\n",
    "    alternative='two-sided',\n",
    "    prop_var=False,\n",
    ")"
   ]
  },
  {
   "cell_type": "code",
   "execution_count": 64,
   "metadata": {},
   "outputs": [
    {
     "data": {
      "text/plain": [
       "(2.7065728058306524, 0.006798167406192918)"
      ]
     },
     "execution_count": 64,
     "metadata": {},
     "output_type": "execute_result"
    }
   ],
   "source": [
    "sm.proportions_ztest(\n",
    "    count=[results1[0][0], results1[1][0]], # Successes\n",
    "    nobs=[sum(results1[0]), sum(results1[1])],\n",
    "    value=0, # null is no diff\n",
    "    alternative='two-sided',\n",
    "    prop_var=results1[0][0] / sum(results1[0]), # proportion of control, sample A\n",
    ")"
   ]
  },
  {
   "cell_type": "code",
   "execution_count": 65,
   "metadata": {},
   "outputs": [
    {
     "data": {
      "text/plain": [
       "(2.7065728058306524, 0.003399083703096459)"
      ]
     },
     "execution_count": 65,
     "metadata": {},
     "output_type": "execute_result"
    }
   ],
   "source": [
    "sm.proportions_ztest(\n",
    "    count=[results1[0][0], results1[1][0]], # Successes\n",
    "    nobs=[sum(results1[0]), sum(results1[1])],\n",
    "    value=0, # null is no diff\n",
    "    alternative='larger',\n",
    "    prop_var=results1[0][0] / sum(results1[0]), # proportion of control, sample A\n",
    ")"
   ]
  },
  {
   "cell_type": "code",
   "execution_count": 69,
   "metadata": {},
   "outputs": [
    {
     "data": {
      "text/plain": [
       "(2.7065728058306524, 0.9966009162969035)"
      ]
     },
     "execution_count": 69,
     "metadata": {},
     "output_type": "execute_result"
    }
   ],
   "source": [
    "sm.proportions_ztest(\n",
    "    count=[results1[0][0], results1[1][0]], # Successes\n",
    "    nobs=[sum(results1[0]), sum(results1[1])],\n",
    "    value=0, # null is no diff\n",
    "    alternative='smaller',\n",
    "    prop_var=results1[0][0] / sum(results1[0]), # proportion of control, sample A\n",
    ")"
   ]
  },
  {
   "cell_type": "code",
   "execution_count": 74,
   "metadata": {},
   "outputs": [
    {
     "data": {
      "text/plain": [
       "(7.256598124158506,\n",
       " 0.007064097883455526,\n",
       " (array([[5000, 3081],\n",
       "         [4000, 2700]]),\n",
       "  array([[4920.43840065, 3160.56159935],\n",
       "         [4079.56159935, 2620.43840065]])))"
      ]
     },
     "execution_count": 74,
     "metadata": {},
     "output_type": "execute_result"
    }
   ],
   "source": [
    "sm.proportions_chisquare(\n",
    "    count=[results1[0][0], results1[1][0]], # Successes\n",
    "    nobs=[sum(results1[0]), sum(results1[1])],\n",
    ")"
   ]
  },
  {
   "cell_type": "code",
   "execution_count": 81,
   "metadata": {},
   "outputs": [
    {
     "data": {
      "text/plain": [
       "(-2.694286560668368, 0.007061918115177303, 14779.0)"
      ]
     },
     "execution_count": 81,
     "metadata": {},
     "output_type": "execute_result"
    }
   ],
   "source": [
    "sm.ttest_ind(\n",
    "    x1= [0] * results1[0][0] + [1] * results1[0][1],\n",
    "    x2= [0] * results1[1][0] + [1] * results1[1][1],\n",
    "    alternative='two-sided',\n",
    "    usevar='pooled',\n",
    "    weights=(None, None),\n",
    "    value=0,\n",
    ")"
   ]
  },
  {
   "cell_type": "markdown",
   "metadata": {},
   "source": [
    "All look very similar...."
   ]
  },
  {
   "cell_type": "markdown",
   "metadata": {},
   "source": [
    "## Power Calculations"
   ]
  },
  {
   "cell_type": "code",
   "execution_count": 95,
   "metadata": {},
   "outputs": [
    {
     "data": {
      "text/plain": [
       "(0.989350186020283, 0.044719986905560935, 0.021720379663371148)"
      ]
     },
     "execution_count": 95,
     "metadata": {},
     "output_type": "execute_result"
    }
   ],
   "source": [
    "p0 = results1[0][0] / sum(results1[0])\n",
    "p1 = results1[1][0] / sum(results1[1])\n",
    "diff = p0 - p1\n",
    "nobs1 = sum(results1[0])\n",
    "ratio = nobs1 / sum(results1[1])\n",
    "std = np.sqrt( p0 * (1 - p0) )\n",
    "effect_size = diff / std\n",
    "\n",
    "sm.tt_ind_solve_power(\n",
    "    effect_size=effect_size,\n",
    "    nobs1=nobs1,\n",
    "    ratio=ratio,\n",
    "    alpha=0.5,\n",
    "    alternative='two-sided',\n",
    "), effect_size, diff"
   ]
  },
  {
   "cell_type": "code",
   "execution_count": 97,
   "metadata": {},
   "outputs": [
    {
     "data": {
      "text/plain": [
       "0.9893507241486387"
      ]
     },
     "execution_count": 97,
     "metadata": {},
     "output_type": "execute_result"
    }
   ],
   "source": [
    "sm.zt_ind_solve_power(\n",
    "    effect_size=effect_size,\n",
    "    nobs1=nobs1,\n",
    "    ratio=ratio,\n",
    "    alpha=0.5,\n",
    "    alternative='two-sided',\n",
    ")"
   ]
  }
 ],
 "metadata": {
  "kernelspec": {
   "display_name": "Python 3",
   "language": "python",
   "name": "python3"
  },
  "language_info": {
   "codemirror_mode": {
    "name": "ipython",
    "version": 3
   },
   "file_extension": ".py",
   "mimetype": "text/x-python",
   "name": "python",
   "nbconvert_exporter": "python",
   "pygments_lexer": "ipython3",
   "version": "3.7.6"
  }
 },
 "nbformat": 4,
 "nbformat_minor": 4
}
