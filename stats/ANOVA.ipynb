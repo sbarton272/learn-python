{
 "cells": [
  {
   "cell_type": "code",
   "execution_count": 16,
   "metadata": {},
   "outputs": [],
   "source": [
    "import matplotlib.pyplot as plt\n",
    "%matplotlib inline\n",
    "\n",
    "import scipy as sp\n",
    "import scipy.stats\n",
    "import numpy as np"
   ]
  },
  {
   "cell_type": "markdown",
   "metadata": {},
   "source": [
    "# Two Sample"
   ]
  },
  {
   "cell_type": "code",
   "execution_count": 30,
   "metadata": {},
   "outputs": [
    {
     "data": {
      "text/plain": [
       "(4387.8399703183522, 0.99999999999999989)"
      ]
     },
     "execution_count": 30,
     "metadata": {},
     "output_type": "execute_result"
    },
    {
     "data": {
      "image/png": "[encoded data removed]",
      "text/plain": [
       "<matplotlib.figure.Figure at 0x103d0e128>"
      ]
     },
     "metadata": {},
     "output_type": "display_data"
    }
   ],
   "source": [
    "def anova_ex(sample_means, plot=True):\n",
    "    N = 100\n",
    "    std = 0.1\n",
    "    samples = [np.random.normal(mu, std, N) for mu in sample_means] \n",
    "\n",
    "    if plot:\n",
    "        plt.hist(samples)\n",
    "\n",
    "    population = np.concatenate(samples)\n",
    "\n",
    "    sample_means = np.array([np.mean(sample) for sample in samples])\n",
    "    sample_sizes = np.array([len(sample) for sample in samples])\n",
    "\n",
    "    mean_sqr_mean_diff = np.sum(sample_sizes * (sample_means - np.mean(population))**2)\n",
    "    sum_of_sqr_err = np.sum([np.sum((sample - np.mean(sample))**2) for sample in samples])\n",
    "\n",
    "    df1 = len(samples) - 1\n",
    "    df2 = len(population) - len(samples)\n",
    "    mean_diffs = mean_sqr_mean_diff / df1\n",
    "    mean_sqr_err = sum_of_sqr_err / df2\n",
    "\n",
    "    F = mean_diffs / mean_sqr_err\n",
    "    return F, sp.stats.f.cdf(F, df1, df2)\n",
    "\n",
    "anova_ex([0, 1])"
   ]
  },
  {
   "cell_type": "code",
   "execution_count": 31,
   "metadata": {},
   "outputs": [
    {
     "data": {
      "text/plain": [
       "(0.10635519238203248, 0.10086053669339833)"
      ]
     },
     "execution_count": 31,
     "metadata": {},
     "output_type": "execute_result"
    },
    {
     "data": {
      "image/png": "[encoded data removed]",
      "text/plain": [
       "<matplotlib.figure.Figure at 0x1029290f0>"
      ]
     },
     "metadata": {},
     "output_type": "display_data"
    }
   ],
   "source": [
    "anova_ex([0.1, 0.1, 0.1])"
   ]
  },
  {
   "cell_type": "code",
   "execution_count": 33,
   "metadata": {},
   "outputs": [
    {
     "data": {
      "text/plain": [
       "(array([  104.,   202.,   307.,   413.,   504.,   606.,   704.,   801.,\n",
       "          896.,  1000.]),\n",
       " array([  5.23934541e-04,   1.00274856e-01,   2.00025777e-01,\n",
       "          2.99776698e-01,   3.99527619e-01,   4.99278540e-01,\n",
       "          5.99029461e-01,   6.98780382e-01,   7.98531303e-01,\n",
       "          8.98282224e-01,   9.98033145e-01]),\n",
       " <a list of 10 Patch objects>)"
      ]
     },
     "execution_count": 33,
     "metadata": {},
     "output_type": "execute_result"
    },
    {
     "data": {
      "image/png": "[encoded data removed]",
      "text/plain": [
       "<matplotlib.figure.Figure at 0x102946630>"
      ]
     },
     "metadata": {},
     "output_type": "display_data"
    }
   ],
   "source": [
    "confidences = []\n",
    "for _ in range(1000):\n",
    "    confidences.append(anova_ex([0.1, 0.1, 0.1], plot=False)[1])\n",
    "plt.hist(confidences, cumulative=True)"
   ]
  },
  {
   "cell_type": "markdown",
   "metadata": {},
   "source": [
    "# F Statistic"
   ]
  },
  {
   "cell_type": "code",
   "execution_count": 37,
   "metadata": {},
   "outputs": [
    {
     "data": {
      "text/plain": [
       "[<matplotlib.lines.Line2D at 0x10754ecf8>,\n",
       " <matplotlib.lines.Line2D at 0x10754e358>]"
      ]
     },
     "execution_count": 37,
     "metadata": {},
     "output_type": "execute_result"
    },
    {
     "data": {
      "image/png": "[encoded data removed]",
      "text/plain": [
       "<matplotlib.figure.Figure at 0x107adad68>"
      ]
     },
     "metadata": {},
     "output_type": "display_data"
    }
   ],
   "source": [
    "x = np.linspace(0, 100)\n",
    "\n",
    "f_curves = np.array([sp.stats.f.cdf(x, df[0], df[1]) for df in [(1, 1), (2, 100)]])\n",
    "plt.plot(f_curves.T)"
   ]
  },
  {
   "cell_type": "code",
   "execution_count": null,
   "metadata": {},
   "outputs": [],
   "source": []
  }
 ],
 "metadata": {
  "kernelspec": {
   "display_name": "Python 3",
   "language": "python",
   "name": "python3"
  },
  "language_info": {
   "codemirror_mode": {
    "name": "ipython",
    "version": 3
   },
   "file_extension": ".py",
   "mimetype": "text/x-python",
   "name": "python",
   "nbconvert_exporter": "python",
   "pygments_lexer": "ipython3",
   "version": "3.5.2"
  }
 },
 "nbformat": 4,
 "nbformat_minor": 2
}
